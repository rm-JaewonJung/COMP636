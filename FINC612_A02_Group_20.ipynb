{
  "cells": [
    {
      "cell_type": "markdown",
      "metadata": {
        "id": "view-in-github",
        "colab_type": "text"
      },
      "source": [
        "<a href=\"https://colab.research.google.com/github/rm-JaewonJung/COMP636/blob/main/FINC612_A02_Group_20.ipynb\" target=\"_parent\"><img src=\"https://colab.research.google.com/assets/colab-badge.svg\" alt=\"Open In Colab\"/></a>"
      ]
    },
    {
      "cell_type": "markdown",
      "id": "-cJ4XS4xv7w-",
      "metadata": {
        "id": "-cJ4XS4xv7w-"
      },
      "source": [
        "# FINC612 Group 20 Assignment 02\n",
        "## Silvia\tFang\t1158174\tSilvia.Fang@lincolnuni.ac.nz\n",
        "## Bowin\tFrancis\t1162179\tBowin.Francis@lincolnuni.ac.nz\n",
        "## Jaewon\tJung\t1163323\tJaewon.Jung2@lincolnuni.ac.nz\n",
        "## Uttam\tKhadka\t1166276\tUttam.Khadka@lincolnuni.ac.nz\n",
        "## Abirami\tKulavelilReans\t1159762\tAbirami.KulavelilReans@lincolnuni.ac.nz\n"
      ]
    },
    {
      "cell_type": "code",
      "execution_count": null,
      "id": "1lsUxGCkq_Ee",
      "metadata": {
        "colab": {
          "base_uri": "https://localhost:8080/"
        },
        "id": "1lsUxGCkq_Ee",
        "outputId": "4595369e-12c0-44fe-dd77-7d65562d2baf"
      },
      "outputs": [
        {
          "output_type": "stream",
          "name": "stdout",
          "text": [
            "Mounted at /content/drive\n"
          ]
        }
      ],
      "source": [
        "#!pip install pyspark\n",
        "#!pip install pyarrow\n",
        "#!pip install -q findspark\n",
        "from pyspark.sql import SparkSession\n",
        "from pyspark.sql import functions as F\n",
        "spark = SparkSession.builder \\\n",
        "        .master(\"local\") \\\n",
        "        .appName(\"FINC612_Group_20\") \\\n",
        "        .getOrCreate()\n",
        "spark\n",
        "from google.colab import drive\n",
        "drive.mount('/content/drive')\n",
        "raw = spark.read.load('drive/MyDrive/FINC612/Data/sp500_constituents.json', format=\"json\")"
      ]
    },
    {
      "cell_type": "markdown",
      "id": "ErcTGNpQS_4b",
      "metadata": {
        "id": "ErcTGNpQS_4b"
      },
      "source": [
        "## Part 1"
      ]
    },
    {
      "cell_type": "code",
      "source": [
        "test"
      ],
      "metadata": {
        "id": "-gkRJ1Wadvyb"
      },
      "id": "-gkRJ1Wadvyb",
      "execution_count": null,
      "outputs": []
    },
    {
      "cell_type": "markdown",
      "source": [
        "## Part - 2"
      ],
      "metadata": {
        "id": "VDLnuPwD9buc"
      },
      "id": "VDLnuPwD9buc"
    },
    {
      "cell_type": "code",
      "source": [],
      "metadata": {
        "id": "eY_gloT1doBd"
      },
      "id": "eY_gloT1doBd",
      "execution_count": null,
      "outputs": []
    },
    {
      "cell_type": "markdown",
      "id": "3isRIi1BCoWx",
      "metadata": {
        "id": "3isRIi1BCoWx"
      },
      "source": [
        "## Part - 3\n",
        "\n"
      ]
    },
    {
      "cell_type": "code",
      "source": [],
      "metadata": {
        "id": "GPY7B_AtdIl6"
      },
      "id": "GPY7B_AtdIl6",
      "execution_count": null,
      "outputs": []
    },
    {
      "cell_type": "markdown",
      "id": "5DKYSJgVuW8S",
      "metadata": {
        "id": "5DKYSJgVuW8S"
      },
      "source": [
        "## Part - 4"
      ]
    },
    {
      "cell_type": "code",
      "execution_count": null,
      "id": "F9PVE_S0biXd",
      "metadata": {
        "id": "F9PVE_S0biXd"
      },
      "outputs": [],
      "source": []
    }
  ],
  "metadata": {
    "colab": {
      "provenance": [],
      "toc_visible": true,
      "history_visible": true,
      "include_colab_link": true
    },
    "kernelspec": {
      "display_name": "Python 3",
      "language": "python",
      "name": "python3"
    },
    "language_info": {
      "codemirror_mode": {
        "name": "ipython",
        "version": 3
      },
      "file_extension": ".py",
      "mimetype": "text/x-python",
      "name": "python",
      "nbconvert_exporter": "python",
      "pygments_lexer": "ipython3",
      "version": "3.11.9"
    }
  },
  "nbformat": 4,
  "nbformat_minor": 5
}